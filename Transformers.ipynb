{
  "nbformat": 4,
  "nbformat_minor": 0,
  "metadata": {
    "colab": {
      "provenance": []
    },
    "kernelspec": {
      "name": "python3",
      "display_name": "Python 3"
    },
    "language_info": {
      "name": "python"
    }
  },
  "cells": [
    {
      "cell_type": "code",
      "execution_count": null,
      "metadata": {
        "id": "IM4MvEuz8IL6"
      },
      "outputs": [],
      "source": [
        "!pip3 install git+https://github.com/huggingface/transformers"
      ]
    },
    {
      "cell_type": "code",
      "source": [
        "!pip3 install jupyterlab ipywidgets bertviz xformers evaluate matplotlib"
      ],
      "metadata": {
        "id": "tmGM8Lxd8OcS"
      },
      "execution_count": null,
      "outputs": []
    },
    {
      "cell_type": "markdown",
      "source": [
        "#Tokenizador"
      ],
      "metadata": {
        "id": "-o7ml4Fw8VaA"
      }
    },
    {
      "cell_type": "code",
      "source": [
        "from transformers import BertModel, BertTokenizer\n",
        "\n",
        "modelName = \"bert-base-uncased\"\n",
        "\n",
        "tokenizer = BertTokenizer.from_pretrained(modelName)\n",
        "model = BertModel.from_pretrained(modelName)"
      ],
      "metadata": {
        "id": "7HAhOYlF8pVC"
      },
      "execution_count": null,
      "outputs": []
    },
    {
      "cell_type": "code",
      "source": [
        "tokenized = tokenizer(\"Leí una buena novela.\")\n",
        "print(tokenized)"
      ],
      "metadata": {
        "id": "afuhQEp08vpa"
      },
      "execution_count": null,
      "outputs": []
    },
    {
      "cell_type": "code",
      "source": [
        "tokens = tokenizer.convert_ids_to_tokens(tokenized[\"input_ids\"])\n",
        "print(tokens)"
      ],
      "metadata": {
        "id": "UFRVTjb6-t_D"
      },
      "execution_count": null,
      "outputs": []
    },
    {
      "cell_type": "markdown",
      "source": [
        "# Codificación posicional"
      ],
      "metadata": {
        "id": "rszm_XNG_Vg_"
      }
    },
    {
      "cell_type": "code",
      "source": [
        "import numpy as np\n",
        "import matplotlib.pyplot as plt\n",
        "\n",
        "def encodePositions(num_tokens, depth, n=10000):\n",
        "    positionalMatrix = np.zeros((num_tokens, depth))\n",
        "    for row in range(num_tokens):\n",
        "        for col in np.arange(int(depth/2)):\n",
        "            denominator = np.power(n, 2*col/depth)\n",
        "            positionalMatrix[row, 2*col] = np.sin(row/denominator)\n",
        "            positionalMatrix[row, 2*col+1] = np.cos(row/denominator)\n",
        "    return positionalMatrix"
      ],
      "metadata": {
        "id": "gJgbmZUA_ayf"
      },
      "execution_count": null,
      "outputs": []
    },
    {
      "cell_type": "code",
      "source": [
        "positionalMatrix = encodePositions(50, 256)\n",
        "fig = plt.matshow(positionalMatrix)\n",
        "plt.gcf().colorbar(fig)"
      ],
      "metadata": {
        "id": "UfhQqjnk_kvv"
      },
      "execution_count": null,
      "outputs": []
    },
    {
      "cell_type": "markdown",
      "source": [
        "# Auto-atención"
      ],
      "metadata": {
        "id": "wPP1_bK4_9B9"
      }
    },
    {
      "cell_type": "code",
      "source": [
        "from bertviz.transformers_neuron_view import BertModel, BertTokenizer\n",
        "from bertviz.neuron_view import show\n",
        "\n",
        "tokenizer_viz = BertTokenizer.from_pretrained(modelName)\n",
        "model_viz = BertModel.from_pretrained(modelName)\n",
        "show(model_viz, \"bert\", tokenizer_viz, \"Leí una buena novela.\", display_mode=\"light\", head=11)"
      ],
      "metadata": {
        "id": "aV1eyisX__mO"
      },
      "execution_count": null,
      "outputs": []
    },
    {
      "cell_type": "code",
      "source": [
        "show(model_viz, \"bert\", tokenizer_viz, \"La atención es una idea novedosa.\", display_mode=\"light\", head=11)"
      ],
      "metadata": {
        "id": "5h7DMzZAAJIK"
      },
      "execution_count": null,
      "outputs": []
    },
    {
      "cell_type": "markdown",
      "source": [
        "[Para seguir prácticando](https://https://huggingface.co/spaces/exbert-project/exbert)"
      ],
      "metadata": {
        "id": "wGWi6rJfBYSe"
      }
    },
    {
      "cell_type": "markdown",
      "source": [
        "# Modelo GPT-2"
      ],
      "metadata": {
        "id": "8Eze1o_cBwer"
      }
    },
    {
      "cell_type": "code",
      "source": [
        "from transformers import pipeline\n",
        "generator = pipeline('text-generation', model='gpt2')\n",
        "generator(\"Leí una buena novela.\", max_length=30, num_return_sequences=5, truncation=True)"
      ],
      "metadata": {
        "id": "WA7BdfU8B-Mj"
      },
      "execution_count": null,
      "outputs": []
    },
    {
      "cell_type": "code",
      "source": [
        "generator(\"Esta película me pareció muy larga.\", max_length=300, num_return_sequences=5, truncation=True)"
      ],
      "metadata": {
        "id": "VmWsiqGgDz7G"
      },
      "execution_count": null,
      "outputs": []
    },
    {
      "cell_type": "code",
      "source": [
        "generator(\"Star Trek\" , max_length=100, num_return_sequences=5, truncation=True)"
      ],
      "metadata": {
        "id": "7bVsX_VVFVfq"
      },
      "execution_count": null,
      "outputs": []
    },
    {
      "cell_type": "markdown",
      "source": [
        "# Modelo Large GTP-2"
      ],
      "metadata": {
        "id": "5dgc7yhjHv5P"
      }
    },
    {
      "cell_type": "code",
      "source": [
        "generator = pipeline('text-generation', model='gpt2-large')\n",
        "generator(\"Leí una buena novela.\", max_length=30, num_return_sequences=5, truncation=True)"
      ],
      "metadata": {
        "id": "xVn27KCyIAwc"
      },
      "execution_count": null,
      "outputs": []
    },
    {
      "cell_type": "markdown",
      "source": [
        "# GPT2 Fine-Tuning"
      ],
      "metadata": {
        "id": "R6LdG-AVI28Q"
      }
    },
    {
      "cell_type": "code",
      "source": [
        "!wget https://raw.githubusercontent.com/huggingface/transformers/main/examples/pytorch/language-modeling/run_clm.py"
      ],
      "metadata": {
        "id": "od3VBCI5JUnc"
      },
      "execution_count": null,
      "outputs": []
    },
    {
      "cell_type": "code",
      "source": [
        "!pip install transformers[torch]"
      ],
      "metadata": {
        "id": "WK28rLYlJYLX"
      },
      "execution_count": null,
      "outputs": []
    },
    {
      "cell_type": "code",
      "source": [
        "%%bash\n",
        "\n",
        "python run_clm.py \\\n",
        "    --model_name_or_path gpt2 \\\n",
        "    --dataset_name imdb \\\n",
        "    --per_device_train_batch_size 8 \\\n",
        "    --per_device_eval_batch_size 8 \\\n",
        "    --do_train \\\n",
        "    --do_eval \\\n",
        "    --output_dir /tmp/test-clm"
      ],
      "metadata": {
        "id": "84mIhHBmNRqJ"
      },
      "execution_count": null,
      "outputs": []
    },
    {
      "cell_type": "code",
      "source": [
        "from transformers import pipeline\n",
        "from transformers import GPT2Tokenizer, GPT2LMHeadModel\n",
        "\n",
        "dir = \"/tmp/test-clm\"\n",
        "generator = pipeline('text-generation', model=GPT2LMHeadModel.from_pretrained(dir), tokenizer=GPT2Tokenizer.from_pretrained(dir))\n",
        "generator(\"Leí una buena novela.\", max_length=30, num_return_sequences=5, truncation=True)"
      ],
      "metadata": {
        "id": "z8nPtuO8NaaX"
      },
      "execution_count": null,
      "outputs": []
    },
    {
      "cell_type": "code",
      "source": [
        "generator(\"Esta película me pareció muy larga.\", max_length=300, num_return_sequences=5, truncation=True)\n"
      ],
      "metadata": {
        "id": "IDd0iIMkNd-V"
      },
      "execution_count": null,
      "outputs": []
    },
    {
      "cell_type": "code",
      "source": [
        "generator(\"Star Trek\", max_length=100, num_return_sequences=5, truncation=True)"
      ],
      "metadata": {
        "id": "FmkwY1UkNHf8"
      },
      "execution_count": null,
      "outputs": []
    }
  ]
}